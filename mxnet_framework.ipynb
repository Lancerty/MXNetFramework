{
  "cells": [
    {
      "cell_type": "markdown",
      "metadata": {
        "id": "lgotq2V6M_zB"
      },
      "source": [
        "**MXNet Deep Learning Framework**"
      ]
    },
    {
      "cell_type": "markdown",
      "metadata": {
        "id": "ijcviKPsNar-"
      },
      "source": [
        "1. Install and Import the necessary Libraries"
      ]
    },
    {
      "cell_type": "code",
      "execution_count": 1,
      "metadata": {
        "colab": {
          "base_uri": "https://localhost:8080/"
        },
        "id": "Zw2sk1C0M9Vn",
        "outputId": "b551b0bc-744d-4741-bcb7-f23bb3fbf98f"
      },
      "outputs": [
        {
          "output_type": "stream",
          "name": "stdout",
          "text": [
            "Looking in indexes: https://pypi.org/simple, https://us-python.pkg.dev/colab-wheels/public/simple/\n",
            "Collecting mxnet\n",
            "  Downloading mxnet-1.9.1-py3-none-manylinux2014_x86_64.whl (49.1 MB)\n",
            "\u001b[2K     \u001b[90m━━━━━━━━━━━━━━━━━━━━━━━━━━━━━━━━━━━━━━━━\u001b[0m \u001b[32m49.1/49.1 MB\u001b[0m \u001b[31m12.5 MB/s\u001b[0m eta \u001b[36m0:00:00\u001b[0m\n",
            "\u001b[?25hRequirement already satisfied: numpy<2.0.0,>1.16.0 in /usr/local/lib/python3.10/dist-packages (from mxnet) (1.22.4)\n",
            "Requirement already satisfied: requests<3,>=2.20.0 in /usr/local/lib/python3.10/dist-packages (from mxnet) (2.27.1)\n",
            "Collecting graphviz<0.9.0,>=0.8.1 (from mxnet)\n",
            "  Downloading graphviz-0.8.4-py2.py3-none-any.whl (16 kB)\n",
            "Requirement already satisfied: urllib3<1.27,>=1.21.1 in /usr/local/lib/python3.10/dist-packages (from requests<3,>=2.20.0->mxnet) (1.26.15)\n",
            "Requirement already satisfied: certifi>=2017.4.17 in /usr/local/lib/python3.10/dist-packages (from requests<3,>=2.20.0->mxnet) (2022.12.7)\n",
            "Requirement already satisfied: charset-normalizer~=2.0.0 in /usr/local/lib/python3.10/dist-packages (from requests<3,>=2.20.0->mxnet) (2.0.12)\n",
            "Requirement already satisfied: idna<4,>=2.5 in /usr/local/lib/python3.10/dist-packages (from requests<3,>=2.20.0->mxnet) (3.4)\n",
            "Installing collected packages: graphviz, mxnet\n",
            "  Attempting uninstall: graphviz\n",
            "    Found existing installation: graphviz 0.20.1\n",
            "    Uninstalling graphviz-0.20.1:\n",
            "      Successfully uninstalled graphviz-0.20.1\n",
            "Successfully installed graphviz-0.8.4 mxnet-1.9.1\n"
          ]
        }
      ],
      "source": [
        "!pip install mxnet\n",
        "import mxnet as mx\n",
        "from mxnet import gluon, autograd, nd\n",
        "from graphviz import Digraph\n",
        "from sklearn.datasets import load_iris\n",
        "from sklearn.model_selection import train_test_split"
      ]
    },
    {
      "cell_type": "markdown",
      "metadata": {
        "id": "dmBDXvsmN4xf"
      },
      "source": [
        "2. Define the neural network model"
      ]
    },
    {
      "cell_type": "code",
      "execution_count": 2,
      "metadata": {
        "id": "XiaE0184N8Gh"
      },
      "outputs": [],
      "source": [
        "# Define the neural network model\n",
        "neurons = 5\n",
        "net = gluon.nn.Sequential()\n",
        "with net.name_scope():\n",
        "    net.add(gluon.nn.Dense(neurons, activation='relu'))\n",
        "    net.add(gluon.nn.Dense(1))\n",
        "   "
      ]
    },
    {
      "cell_type": "markdown",
      "source": [
        "3. Model Data Initialization\n",
        "\n"
      ],
      "metadata": {
        "id": "4p9tCLz85GuM"
      }
    },
    {
      "cell_type": "code",
      "source": [
        "# Load the data set\n",
        "iris = load_iris()\n",
        "data = nd.array(iris.data)\n",
        "\n",
        "# Normalize the data\n",
        "data_mean = nd.mean(data, axis=0)\n",
        "data -= data_mean\n",
        "data /= nd.sqrt(nd.mean(nd.square(data)))\n",
        "\n",
        "labels = nd.array(iris.target)\n",
        "\n",
        "# Split data into training and testing sets\n",
        "train_data, test_data, train_labels, test_labels = train_test_split(data, labels, test_size=0.8)\n",
        "\n",
        "# Initialize the model parameters\n",
        "net.collect_params().initialize(mx.init.Normal(sigma=0.1))\n",
        "\n",
        "# Define the loss function\n",
        "loss = gluon.loss.L2Loss()\n",
        "\n",
        "# Define the optimizer\n",
        "trainer = gluon.Trainer(net.collect_params(), 'sgd', {'learning_rate': 0.1})"
      ],
      "metadata": {
        "colab": {
          "base_uri": "https://localhost:8080/"
        },
        "id": "BFl1s4cd3_BX",
        "outputId": "e35791bb-0bcf-47f6-a83a-f4574e99def1"
      },
      "execution_count": 4,
      "outputs": [
        {
          "output_type": "stream",
          "name": "stderr",
          "text": [
            "/usr/local/lib/python3.10/dist-packages/mxnet/gluon/parameter.py:896: UserWarning: Parameter 'sequential1_dense0_weight' is already initialized, ignoring. Set force_reinit=True to re-initialize.\n",
            "  v.initialize(None, ctx, init, force_reinit=force_reinit)\n",
            "/usr/local/lib/python3.10/dist-packages/mxnet/gluon/parameter.py:896: UserWarning: Parameter 'sequential1_dense0_bias' is already initialized, ignoring. Set force_reinit=True to re-initialize.\n",
            "  v.initialize(None, ctx, init, force_reinit=force_reinit)\n",
            "/usr/local/lib/python3.10/dist-packages/mxnet/gluon/parameter.py:896: UserWarning: Parameter 'sequential1_dense1_weight' is already initialized, ignoring. Set force_reinit=True to re-initialize.\n",
            "  v.initialize(None, ctx, init, force_reinit=force_reinit)\n",
            "/usr/local/lib/python3.10/dist-packages/mxnet/gluon/parameter.py:896: UserWarning: Parameter 'sequential1_dense1_bias' is already initialized, ignoring. Set force_reinit=True to re-initialize.\n",
            "  v.initialize(None, ctx, init, force_reinit=force_reinit)\n"
          ]
        }
      ]
    }
  ],
  "metadata": {
    "colab": {
      "provenance": []
    },
    "kernelspec": {
      "display_name": "Python 3",
      "name": "python3"
    },
    "language_info": {
      "name": "python"
    }
  },
  "nbformat": 4,
  "nbformat_minor": 0
}